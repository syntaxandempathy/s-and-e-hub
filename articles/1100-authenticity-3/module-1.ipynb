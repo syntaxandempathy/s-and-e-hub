{
  "nbformat": 4,
  "nbformat_minor": 0,
  "metadata": {
    "colab": {
      "provenance": []
    },
    "kernelspec": {
      "name": "python3",
      "display_name": "Python 3"
    },
    "language_info": {
      "name": "python"
    }
  },
  "cells": [
    {
      "cell_type": "code",
      "execution_count": 17,
      "metadata": {
        "colab": {
          "base_uri": "https://localhost:8080/"
        },
        "id": "7sOjkNR_t-67",
        "outputId": "dacf4168-f427-438e-becd-faf85f510fba"
      },
      "outputs": [
        {
          "output_type": "stream",
          "name": "stdout",
          "text": [
            "{\n",
            "  \"cell_id\": \"0.0 foundations: helpers\",\n",
            "  \"status\": \"ready\"\n",
            "}\n"
          ]
        }
      ],
      "source": [
        "# cell 0.0: foundations: helpers (no installs, no heavy imports)\n",
        "from __future__ import annotations\n",
        "\n",
        "import os, sys, json, random, re, unicodedata, datetime, textwrap, math, subprocess\n",
        "from dataclasses import dataclass, asdict\n",
        "from pathlib import Path\n",
        "from typing import List, Tuple, Dict, Any, Optional\n",
        "\n",
        "def _pip(*args: str) -> None:\n",
        "    subprocess.check_call([sys.executable, \"-m\", \"pip\", *args])\n",
        "\n",
        "def try_import(name: str, import_name: Optional[str] = None):\n",
        "    try:\n",
        "        return __import__(import_name or name)\n",
        "    except Exception:\n",
        "        return None\n",
        "\n",
        "def ensure_packaging():\n",
        "    try:\n",
        "        from packaging.version import Version  # noqa: F401\n",
        "        from packaging.specifiers import SpecifierSet  # noqa: F401\n",
        "    except Exception:\n",
        "        _pip(\"install\", \"-q\", \"--no-cache-dir\", \"packaging\")\n",
        "\n",
        "def versions_dict(pkgs=(\"numpy\",\"pandas\",\"matplotlib\",\"scipy\",\"sklearn\")) -> Dict[str, Optional[str]]:\n",
        "    out = {}\n",
        "    for p in pkgs:\n",
        "        mod = try_import(p if p!=\"sklearn\" else \"sklearn\")\n",
        "        out[p] = getattr(mod, \"__version__\", None) if mod else None\n",
        "    return out\n",
        "\n",
        "print(json.dumps({\"cell_id\":\"0.0 foundations: helpers\",\"status\":\"ready\"}, indent=2))\n"
      ]
    },
    {
      "cell_type": "code",
      "source": [
        "# cell 0.1: foundations: minimal installs (only-if-missing; never upgrade)\n",
        "try:\n",
        "    installed = {}\n",
        "    order = [\"numpy\", \"scipy\", \"scikit-learn\", \"pandas\", \"matplotlib\"]\n",
        "    specs = {\n",
        "        \"numpy\": \">=2.0,<3\",\n",
        "        \"pandas\": \"==2.2.2\",\n",
        "        \"matplotlib\": \">=3.8,<3.9\",\n",
        "        \"scipy\": \">=1.13,<2.0\",\n",
        "        \"scikit-learn\": \">=1.6,<1.7\",\n",
        "    }\n",
        "    for pip_name in order:\n",
        "        import_name = \"sklearn\" if pip_name == \"scikit-learn\" else pip_name\n",
        "        if try_import(import_name) is None:\n",
        "            _pip(\"install\", \"-q\", \"--no-cache-dir\", \"--only-binary=:all:\", f\"{pip_name}{specs[pip_name]}\")\n",
        "            installed[pip_name] = specs[pip_name]\n",
        "    print(json.dumps({\n",
        "        \"cell_id\":\"0.1 foundations: installs (only-if-missing)\",\n",
        "        \"status\":\"pass\",\"installed_if_missing\": installed,\"versions\": versions_dict()\n",
        "    }, indent=2))\n",
        "except Exception as e:\n",
        "    print(json.dumps({\"cell_id\":\"0.1 foundations: installs (only-if-missing)\",\n",
        "                      \"status\":\"fail\",\"error\":f\"{type(e).__name__}: {e}\"} , indent=2))\n",
        "    raise\n"
      ],
      "metadata": {
        "colab": {
          "base_uri": "https://localhost:8080/"
        },
        "id": "XX0SzGtnuMgu",
        "outputId": "e54f1394-59a7-4d16-c736-747770f9cc0d"
      },
      "execution_count": 18,
      "outputs": [
        {
          "output_type": "stream",
          "name": "stdout",
          "text": [
            "{\n",
            "  \"cell_id\": \"0.1 foundations: installs (only-if-missing)\",\n",
            "  \"status\": \"pass\",\n",
            "  \"installed_if_missing\": {},\n",
            "  \"versions\": {\n",
            "    \"numpy\": \"2.0.2\",\n",
            "    \"pandas\": \"2.2.2\",\n",
            "    \"matplotlib\": \"3.10.0\",\n",
            "    \"scipy\": \"1.16.1\",\n",
            "    \"sklearn\": \"1.6.1\"\n",
            "  }\n",
            "}\n"
          ]
        }
      ]
    },
    {
      "cell_type": "code",
      "source": [
        "# cell 0.2: foundations: imports, determinism, version capture (CPU-only)\n",
        "\n",
        "# stdlib (import locally so this cell is idempotent)\n",
        "import os, sys, json, random\n",
        "\n",
        "# Cap threads BEFORE importing numeric libs (repro & predictable perf)\n",
        "threads = os.environ.get(\"LSA_THREADS\", \"1\")\n",
        "for _v in (\"OPENBLAS_NUM_THREADS\",\"MKL_NUM_THREADS\",\"NUMEXPR_NUM_THREADS\",\"OMP_NUM_THREADS\"):\n",
        "    os.environ[_v] = threads\n",
        "\n",
        "# heavy stack (single imports cell)\n",
        "import numpy as np\n",
        "import pandas as pd\n",
        "import matplotlib\n",
        "import matplotlib.pyplot as plt\n",
        "import scipy\n",
        "import sklearn\n",
        "\n",
        "# Allow thread override; default to 1 for reproducibility on CPU\n",
        "threads = os.environ.get(\"LSA_THREADS\", \"1\")\n",
        "for _v in (\"OPENBLAS_NUM_THREADS\",\"MKL_NUM_THREADS\",\"NUMEXPR_NUM_THREADS\",\"OMP_NUM_THREADS\"):\n",
        "    os.environ[_v] = threads\n",
        "\n",
        "SEED = int(os.environ.get(\"LSA_SEED\",\"12345\"))\n",
        "os.environ[\"PYTHONHASHSEED\"] = str(SEED)  # note: only affects new processes’ hash order\n",
        "random.seed(SEED); np.random.seed(SEED)\n",
        "\n",
        "# Optional strict hash guard (off by default)\n",
        "if os.environ.get(\"LSA_HASH_GUARD\",\"0\") == \"1\":\n",
        "    import builtins\n",
        "    _orig_hash = builtins.hash\n",
        "    def _det_hash_guard(x):\n",
        "        raise RuntimeError(\"Avoid builtins.hash() for logic; nondeterministic across runs.\")\n",
        "    builtins.hash = _det_hash_guard\n",
        "\n",
        "# Plot defaults (matplotlib per your preference)\n",
        "plt.rcParams.update({\"figure.figsize\": (8,3.5), \"axes.grid\": True, \"grid.alpha\": 0.25, \"figure.dpi\": 110})\n",
        "\n",
        "VERSIONS = {\n",
        "    \"python\": sys.version.split()[0],\n",
        "    \"numpy\": np.__version__,\n",
        "    \"pandas\": pd.__version__,\n",
        "    \"matplotlib\": matplotlib.__version__,\n",
        "    \"scipy\": scipy.__version__,\n",
        "    \"scikit_learn\": sklearn.__version__,\n",
        "}\n",
        "print(json.dumps({\"cell_id\":\"0.2 foundations: imports+determinism\",\"status\":\"pass\",\"seed\":SEED,\"threads\":threads,\"versions\":VERSIONS}, indent=2))\n"
      ],
      "metadata": {
        "colab": {
          "base_uri": "https://localhost:8080/"
        },
        "id": "M8dqQhvhuVP5",
        "outputId": "a51309c5-5736-419b-c0e6-6ce378b82e0f"
      },
      "execution_count": 19,
      "outputs": [
        {
          "output_type": "stream",
          "name": "stdout",
          "text": [
            "{\n",
            "  \"cell_id\": \"0.2 foundations: imports+determinism\",\n",
            "  \"status\": \"pass\",\n",
            "  \"seed\": 12345,\n",
            "  \"threads\": \"1\",\n",
            "  \"versions\": {\n",
            "    \"python\": \"3.12.11\",\n",
            "    \"numpy\": \"2.0.2\",\n",
            "    \"pandas\": \"2.2.2\",\n",
            "    \"matplotlib\": \"3.10.0\",\n",
            "    \"scipy\": \"1.16.1\",\n",
            "    \"scikit_learn\": \"1.6.1\"\n",
            "  }\n",
            "}\n"
          ]
        }
      ]
    },
    {
      "cell_type": "code",
      "source": [
        "# cell 0.3: foundations: configuration & directories (portable)\n",
        "BASE_DIR = Path(os.environ.get(\"LSA_BASE_DIR\",\"/content\"))\n",
        "\n",
        "@dataclass\n",
        "class LSAPaths:\n",
        "    input_dir: Path = BASE_DIR / \"input_docs\"\n",
        "    out_dir: Path = BASE_DIR / \"lsa_outputs\"\n",
        "    models_dir: Path = BASE_DIR / \"models\"\n",
        "\n",
        "@dataclass\n",
        "class LSAConfig:\n",
        "    language: str = \"en\"\n",
        "    window_sentences: int = 4\n",
        "    window_stride: int = 2\n",
        "    percentile_minor: float = 0.60\n",
        "    percentile_unchanged: float = 0.85\n",
        "    new_floor: float = 0.20\n",
        "    new_floor_tfidf: float = 0.15\n",
        "\n",
        "paths = LSAPaths(); cfg = LSAConfig()\n",
        "for p in (paths.input_dir, paths.out_dir, paths.models_dir):\n",
        "    p.mkdir(parents=True, exist_ok=True)\n",
        "\n",
        "print(json.dumps({\n",
        "    \"cell_id\":\"0.3 foundations: config+dirs\",\n",
        "    \"status\":\"pass\",\n",
        "    \"base_dir\": str(BASE_DIR),\n",
        "    \"dirs\": { \"input\": str(paths.input_dir), \"out\": str(paths.out_dir), \"models\": str(paths.models_dir) }\n",
        "}, indent=2))\n"
      ],
      "metadata": {
        "colab": {
          "base_uri": "https://localhost:8080/"
        },
        "id": "ubx1OKhrvGxo",
        "outputId": "3be9b63c-4f2f-432c-ee95-5d419c438567"
      },
      "execution_count": 20,
      "outputs": [
        {
          "output_type": "stream",
          "name": "stdout",
          "text": [
            "{\n",
            "  \"cell_id\": \"0.3 foundations: config+dirs\",\n",
            "  \"status\": \"pass\",\n",
            "  \"base_dir\": \"/content\",\n",
            "  \"dirs\": {\n",
            "    \"input\": \"/content/input_docs\",\n",
            "    \"out\": \"/content/lsa_outputs\",\n",
            "    \"models\": \"/content/models\"\n",
            "  }\n",
            "}\n"
          ]
        }
      ]
    },
    {
      "cell_type": "code",
      "source": [
        "# cell 0.4: foundations: status logging & self-report\n",
        "MODULE_STATUS: Dict[str, Dict[str, Any]] = {}\n",
        "\n",
        "def report_status(module: str, ok: bool, note: str = \"\", extra: Optional[Dict[str,Any]] = None):\n",
        "    MODULE_STATUS[module] = {\n",
        "        \"ok\": bool(ok),\n",
        "        \"note\": note,\n",
        "        \"extra\": extra or {},\n",
        "        \"ts\": datetime.datetime.utcnow().isoformat() + \"Z\",\n",
        "    }\n",
        "    print(json.dumps({\"module\": module, \"ok\": ok, \"note\": note, \"extra\": extra or {} }))\n",
        "\n",
        "def dump_status_json(out_path: Path = paths.out_dir / \"module_status.json\"):\n",
        "    out_path.write_text(json.dumps(MODULE_STATUS, indent=2), encoding=\"utf-8\")\n",
        "    print(json.dumps({\"wrote\": str(out_path), \"entries\": len(MODULE_STATUS)}))\n",
        "\n",
        "# cell-level self-report (per rule #9)\n",
        "print(json.dumps({\"cell_id\": \"0.4 foundations: status utilities\", \"status\": \"pass\"}))\n"
      ],
      "metadata": {
        "colab": {
          "base_uri": "https://localhost:8080/"
        },
        "id": "6Z6DBSDZvIBK",
        "outputId": "740b56e7-ff84-46f7-a210-1ae0fa425f14"
      },
      "execution_count": 21,
      "outputs": [
        {
          "output_type": "stream",
          "name": "stdout",
          "text": [
            "{\"cell_id\": \"0.4 foundations: status utilities\", \"status\": \"pass\"}\n"
          ]
        }
      ]
    },
    {
      "cell_type": "code",
      "source": [
        "# cell 0.5: foundations: offset-preserving normalization (fixed CRLF + maps)\n",
        "from typing import NamedTuple\n",
        "\n",
        "class NormResult(NamedTuple):\n",
        "    text: str\n",
        "    norm_to_orig: List[int]\n",
        "    orig_to_norm: List[int]\n",
        "\n",
        "def normalize_with_offsets(s: str) -> NormResult:\n",
        "    norm_to_orig: List[int] = []\n",
        "    out_chars: List[str] = []\n",
        "    prev_space = False\n",
        "    j = 0\n",
        "    L = len(s)\n",
        "\n",
        "    while j < L:\n",
        "        ch = s[j]\n",
        "        if ch == '\\r':\n",
        "            if j + 1 < L and s[j+1] == '\\n':\n",
        "                out_chars.append('\\n'); norm_to_orig.append(j)\n",
        "                prev_space = False; j += 2; continue\n",
        "            else:\n",
        "                ch_n = '\\n'\n",
        "        else:\n",
        "            ch_n = unicodedata.normalize(\"NFKC\", ch)\n",
        "            if ch_n in [\"\\u2028\", \"\\u2029\"]:\n",
        "                ch_n = \"\\n\"\n",
        "\n",
        "        if ch_n.isspace() and ch_n != \"\\n\":\n",
        "            if prev_space: j += 1; continue\n",
        "            ch_n = \" \"; prev_space = True\n",
        "        else:\n",
        "            prev_space = (ch_n == \" \")\n",
        "\n",
        "        out_chars.append(ch_n); norm_to_orig.append(j); j += 1\n",
        "\n",
        "    text = \"\".join(out_chars)\n",
        "    orig_to_norm = [-1] * L\n",
        "    for norm_i, orig_j in enumerate(norm_to_orig):\n",
        "        if 0 <= orig_j < L:\n",
        "            orig_to_norm[orig_j] = norm_i\n",
        "    last = 0\n",
        "    for k in range(L):\n",
        "        if orig_to_norm[k] == -1:\n",
        "            orig_to_norm[k] = last\n",
        "        else:\n",
        "            last = orig_to_norm[k]\n",
        "\n",
        "    return NormResult(text=text, norm_to_orig=norm_to_orig, orig_to_norm=orig_to_norm)\n",
        "\n",
        "# sanity self-report\n",
        "try:\n",
        "    demo = \"A  test\\u00A0string\\r\\nwith\\rmixed  spaces.\\nNext line.\"\n",
        "    res = normalize_with_offsets(demo)\n",
        "    assert \"\\r\" not in res.text and \"\\r\\n\" not in res.text\n",
        "    report_status(\"0.foundation.normalize\", True, \"Normalization OK\", {\"len\": len(res.text)})\n",
        "except Exception as e:\n",
        "    report_status(\"0.foundation.normalize\", False, f\"Init error: {e}\")\n"
      ],
      "metadata": {
        "colab": {
          "base_uri": "https://localhost:8080/"
        },
        "id": "C_LN4zeRvJ4l",
        "outputId": "8ce7ec4a-4ed6-49b8-b98f-0edcda74174e"
      },
      "execution_count": 22,
      "outputs": [
        {
          "output_type": "stream",
          "name": "stdout",
          "text": [
            "{\"module\": \"0.foundation.normalize\", \"ok\": true, \"note\": \"Normalization OK\", \"extra\": {\"len\": 43}}\n"
          ]
        },
        {
          "output_type": "stream",
          "name": "stderr",
          "text": [
            "/tmp/ipython-input-167704889.py:9: DeprecationWarning: datetime.datetime.utcnow() is deprecated and scheduled for removal in a future version. Use timezone-aware objects to represent datetimes in UTC: datetime.datetime.now(datetime.UTC).\n",
            "  \"ts\": datetime.datetime.utcnow().isoformat() + \"Z\",\n"
          ]
        }
      ]
    },
    {
      "cell_type": "code",
      "source": [
        "# cell 0.6: foundations: sentence segmentation & windowing (regex heuristic)\n",
        "# Reviewer fix: reduce false splits on initials like \"A.\" / \"Dr.\"\n",
        "SENT_SPLIT_RE = re.compile(r'(?<!\\b[A-Z]\\.)(?<=[.!?])\\s+(?=[A-Z0-9])')\n",
        "\n",
        "def split_sentences(text: str) -> List[Tuple[str, Tuple[int,int]]]:\n",
        "    spans: List[Tuple[int,int]] = []\n",
        "    start = 0\n",
        "    for m in SENT_SPLIT_RE.finditer(text):\n",
        "        end = m.start() + 1\n",
        "        spans.append((start, end))\n",
        "        start = m.end()\n",
        "    if start < len(text): spans.append((start, len(text)))\n",
        "    return [(text[a:b], (a,b)) for a,b in spans if b > a]\n",
        "\n",
        "def window_sentences(sents: List[Tuple[str, Tuple[int,int]]], win: int, stride: int):\n",
        "    windows = []\n",
        "    for i in range(0, max(len(sents)-win+1, 0), stride):\n",
        "        chunk = sents[i:i+win]\n",
        "        if len(chunk) < win: break\n",
        "        text = \" \".join(x[0].strip() for x in chunk)\n",
        "        start = chunk[0][1][0]; end = chunk[-1][1][1]\n",
        "        windows.append({\"sent_start_idx\": i, \"sent_end_idx\": i+win, \"char_span\": [start,end], \"text\": text})\n",
        "    return windows\n",
        "\n",
        "# sanity self-report\n",
        "try:\n",
        "    sample = \"Dr. A. Smith wrote this. Second sentence! Third sentence? Fourth one. Fifth here.\"\n",
        "    sents = split_sentences(sample)\n",
        "    wins = window_sentences(sents, 4, 2)\n",
        "    report_status(\"0.foundation.segmentation\", True, \"Splitter/windowing OK\", {\"sents\": len(sents), \"windows\": len(wins)})\n",
        "except Exception as e:\n",
        "    report_status(\"0.foundation.segmentation\", False, f\"Error: {e}\")\n"
      ],
      "metadata": {
        "colab": {
          "base_uri": "https://localhost:8080/"
        },
        "id": "u49mIDpuvlUQ",
        "outputId": "7c5e5e8d-ad12-4347-ec4b-b527fe0225a0"
      },
      "execution_count": 23,
      "outputs": [
        {
          "output_type": "stream",
          "name": "stdout",
          "text": [
            "{\"module\": \"0.foundation.segmentation\", \"ok\": true, \"note\": \"Splitter/windowing OK\", \"extra\": {\"sents\": 6, \"windows\": 2}}\n"
          ]
        },
        {
          "output_type": "stream",
          "name": "stderr",
          "text": [
            "/tmp/ipython-input-167704889.py:9: DeprecationWarning: datetime.datetime.utcnow() is deprecated and scheduled for removal in a future version. Use timezone-aware objects to represent datetimes in UTC: datetime.datetime.now(datetime.UTC).\n",
            "  \"ts\": datetime.datetime.utcnow().isoformat() + \"Z\",\n"
          ]
        }
      ]
    },
    {
      "cell_type": "code",
      "source": [
        "# cell 0.7: foundations: visualization smoke test (matplotlib only) — use plt from 0.2\n",
        "try:\n",
        "    xs = np.arange(0, 10); ys = np.sqrt(xs)\n",
        "    plt.figure(); plt.plot(xs, ys, marker=\"o\")\n",
        "    plt.title(\"Matplotlib render check (0.#)\"); plt.xlabel(\"x\"); plt.ylabel(\"sqrt(x)\")\n",
        "    fig = plt.gcf(); axes = fig.get_axes()\n",
        "    assert axes and any(ax.has_data() for ax in axes), \"No plotted data detected\"\n",
        "    plt.show()\n",
        "    report_status(\"0.foundation.viz\", True, \"Matplotlib rendering OK\")\n",
        "except Exception as e:\n",
        "    report_status(\"0.foundation.viz\", False, f\"Matplotlib failed: {e}\")\n"
      ],
      "metadata": {
        "colab": {
          "base_uri": "https://localhost:8080/",
          "height": 477
        },
        "id": "_qNtVT1dv5z4",
        "outputId": "51113ec3-7600-4373-be5b-697470f4188d"
      },
      "execution_count": 24,
      "outputs": [
        {
          "output_type": "display_data",
          "data": {
            "text/plain": [
              "<Figure size 880x385 with 1 Axes>"
            ],
            "image/png": "[encoded data removed]"
          },
          "metadata": {}
        },
        {
          "output_type": "stream",
          "name": "stdout",
          "text": [
            "{\"module\": \"0.foundation.viz\", \"ok\": true, \"note\": \"Matplotlib rendering OK\", \"extra\": {}}\n"
          ]
        },
        {
          "output_type": "stream",
          "name": "stderr",
          "text": [
            "/tmp/ipython-input-167704889.py:9: DeprecationWarning: datetime.datetime.utcnow() is deprecated and scheduled for removal in a future version. Use timezone-aware objects to represent datetimes in UTC: datetime.datetime.now(datetime.UTC).\n",
            "  \"ts\": datetime.datetime.utcnow().isoformat() + \"Z\",\n"
          ]
        }
      ]
    },
    {
      "cell_type": "code",
      "source": [
        "# cell 1.0A: set SOURCE_DIR to your article folder (expects 01-*.md .. 04-*.md)\n",
        "from pathlib import Path\n",
        "SOURCE_DIR = Path(\"/content\")  # adjust if needed\n",
        "print({\"cell_id\": \"cell 1.0A: set SOURCE_DIR\",\n",
        "       \"SOURCE_DIR\": str(SOURCE_DIR),\n",
        "       \"exists\": SOURCE_DIR.exists(),\n",
        "       \"is_dir\": SOURCE_DIR.is_dir()})"
      ],
      "metadata": {
        "colab": {
          "base_uri": "https://localhost:8080/"
        },
        "id": "dm1rUVnpMVOb",
        "outputId": "2dd4b23e-b856-4160-ca7b-e04a1a4626a4"
      },
      "execution_count": 25,
      "outputs": [
        {
          "output_type": "stream",
          "name": "stdout",
          "text": [
            "{'cell_id': 'cell 1.0A: set SOURCE_DIR', 'SOURCE_DIR': '/content', 'exists': True, 'is_dir': True}\n"
          ]
        }
      ]
    },
    {
      "cell_type": "code",
      "source": [
        "# cell 1.0B: filename sanity (previews matches and version coverage by slug)\n",
        "import re, json\n",
        "from pathlib import Path\n",
        "\n",
        "FNAME_RE = re.compile(r\"^(?P<prefix>0[1-4])-(?P<slug>.+)\\.md$\")\n",
        "if not SOURCE_DIR.exists() or not SOURCE_DIR.is_dir():\n",
        "    raise ValueError(f\"SOURCE_DIR not found or not a directory: {SOURCE_DIR}\")\n",
        "\n",
        "files = [p for p in SOURCE_DIR.iterdir() if p.is_file() and FNAME_RE.match(p.name)]\n",
        "preview = [p.name for p in files[:10]]\n",
        "groups = {}\n",
        "for p in files:\n",
        "    m = FNAME_RE.match(p.name)\n",
        "    slug = m.group(\"slug\")\n",
        "    vid = int(m.group(\"prefix\"))\n",
        "    groups.setdefault(slug, []).append(vid)\n",
        "\n",
        "summary = {slug: sorted(vs) for slug, vs in groups.items()}\n",
        "print(json.dumps({\n",
        "    \"cell_id\": \"cell 1.0B: filename sanity\",\n",
        "    \"SOURCE_DIR\": str(SOURCE_DIR),\n",
        "    \"matches\": len(files),\n",
        "    \"preview\": preview,\n",
        "    \"articles\": len(summary),\n",
        "    \"versions_by_article\": summary\n",
        "}, indent=2))\n"
      ],
      "metadata": {
        "colab": {
          "base_uri": "https://localhost:8080/"
        },
        "id": "fnTsGamAMWYf",
        "outputId": "984db826-52fc-4b26-b16d-a896dfaec4cc"
      },
      "execution_count": 26,
      "outputs": [
        {
          "output_type": "stream",
          "name": "stdout",
          "text": [
            "{\n",
            "  \"cell_id\": \"cell 1.0B: filename sanity\",\n",
            "  \"SOURCE_DIR\": \"/content\",\n",
            "  \"matches\": 4,\n",
            "  \"preview\": [\n",
            "    \"01-the-count-that-coudnt.md\",\n",
            "    \"03-the-count-that-coudnt.md\",\n",
            "    \"02-the-count-that-coudnt.md\",\n",
            "    \"04-the-count-that-coudnt.md\"\n",
            "  ],\n",
            "  \"articles\": 1,\n",
            "  \"versions_by_article\": {\n",
            "    \"the-count-that-coudnt\": [\n",
            "      1,\n",
            "      2,\n",
            "      3,\n",
            "      4\n",
            "    ]\n",
            "  }\n",
            "}\n"
          ]
        }
      ]
    },
    {
      "cell_type": "code",
      "source": [
        "# cell 1.1: textstat|wordfreq: install (module-only; no base upgrades; pinned, wheels-only, no-deps)\n",
        "%pip install -q --only-binary=:all: --no-deps \\\n",
        "  \"textstat>=0.7,<0.8\" \\\n",
        "  \"wordfreq>=3,<4\" \\\n",
        "  \"regex>=2023.10,<2026.0\" \\\n",
        "  \"pyarrow>=14,<18\"\n",
        "\n",
        "from pathlib import Path, PurePosixPath\n",
        "import json\n",
        "\n",
        "BASE_OUT = Path(\"outputs/textstat_lex\")\n",
        "PLOTS_OUT = BASE_OUT / \"plots\"\n",
        "BASE_OUT.mkdir(parents=True, exist_ok=True)\n",
        "PLOTS_OUT.mkdir(parents=True, exist_ok=True)\n",
        "\n",
        "print(json.dumps({\n",
        "    \"cell_id\": \"cell 1.1: textstat|wordfreq: install\",\n",
        "    \"status\": \"pass\",\n",
        "    \"dirs\": {\"base\": str(PurePosixPath(BASE_OUT)), \"plots\": str(PurePosixPath(PLOTS_OUT))}\n",
        "}, indent=2))\n"
      ],
      "metadata": {
        "colab": {
          "base_uri": "https://localhost:8080/"
        },
        "id": "IygMdpH-osOh",
        "outputId": "6b0dd7ab-6f21-4f65-a631-f99322a11dbb"
      },
      "execution_count": 27,
      "outputs": [
        {
          "output_type": "stream",
          "name": "stdout",
          "text": [
            "{\n",
            "  \"cell_id\": \"cell 1.1: textstat|wordfreq: install\",\n",
            "  \"status\": \"pass\",\n",
            "  \"dirs\": {\n",
            "    \"base\": \"outputs/textstat_lex\",\n",
            "    \"plots\": \"outputs/textstat_lex/plots\"\n",
            "  }\n",
            "}\n"
          ]
        }
      ]
    },
    {
      "cell_type": "code",
      "source": [
        "# cell 1.2: textstat|wordfreq: imports & sanity checks + filename-driven versioning\n",
        "import json, datetime, math, random, re\n",
        "from pathlib import Path\n",
        "\n",
        "import textstat\n",
        "from importlib.metadata import version as _pkg_version\n",
        "\n",
        "# Assert foundations (avoid base re-imports here)\n",
        "_missing = [name for name in (\"np\",\"pd\",\"plt\") if name not in globals()]\n",
        "if _missing:\n",
        "    raise RuntimeError(f\"Foundations not loaded (missing {_missing}). Run cell 0.2 before Module 1.\")\n",
        "\n",
        "# ---- Versions & determinism ----\n",
        "VERS = {\"textstat\": _pkg_version(\"textstat\"), \"wordfreq\": _pkg_version(\"wordfreq\")}\n",
        "np.random.seed(7); random.seed(7)\n",
        "\n",
        "# ---- Inputs handshake ----\n",
        "g = globals()\n",
        "DOCS = g.get(\"DOCS\"); TEXT = g.get(\"TEXT\")\n",
        "\n",
        "# If neither DOCS nor TEXT is provided, load from SOURCE_DIR using strict filename rule.\n",
        "SOURCE_DIR = Path(g.get(\"SOURCE_DIR\", \"content\"))\n",
        "\n",
        "FNAME_RE = re.compile(r\"^(?P<prefix>0[1-4])-(?P<slug>.+)\\.md$\")\n",
        "NOTES = []\n",
        "\n",
        "def _clean_markdown(s: str) -> str:\n",
        "    \"\"\"Regex-only light cleaner for readability/lexical metrics.\"\"\"\n",
        "    if not s: return \"\"\n",
        "    s = re.sub(r\"```[\\s\\S]*?```\", \" \", s)                            # fenced code blocks\n",
        "    s = re.sub(r\"!\\[([^\\]]*)\\]\\([^)]+\\)\", r\"\\1\", s)                  # images -> alt\n",
        "    s = re.sub(r\"\\[([^\\]]+)\\]\\([^)]+\\)\", r\"\\1\", s)                   # links -> text\n",
        "    s = re.sub(r\"`([^`]+)`\", r\"\\1\", s)                               # inline code\n",
        "    s = re.sub(r\"^\\s*#{1,6}\\s+\", \"\", s, flags=re.MULTILINE)          # headings\n",
        "    s = re.sub(r\"[ \\t]+\", \" \", s)                                    # spaces\n",
        "    s = re.sub(r\"\\s*\\n\\s*\", \"\\n\", s).strip()                         # newlines\n",
        "    return s\n",
        "\n",
        "if DOCS is None and TEXT is not None:\n",
        "    DOCS = [{\"doc_id\": \"doc_0001\", \"text\": TEXT, \"article_id\": \"doc_0001\", \"version_id\": 1,\n",
        "             \"version_tag\": \"v1\", \"filename\": \"<in-memory>\", \"path\": \"<in-memory>\"}]\n",
        "elif DOCS is None and TEXT is None:\n",
        "    # Filename-driven discovery\n",
        "    if not SOURCE_DIR.exists() or not SOURCE_DIR.is_dir():\n",
        "        raise ValueError(f\"Module 1: SOURCE_DIR does not exist or is not a directory: {SOURCE_DIR}\")\n",
        "    files = [p for p in SOURCE_DIR.iterdir() if p.is_file() and FNAME_RE.match(p.name)]\n",
        "    if not files:\n",
        "        raise ValueError(\"Module 1: No files found matching ^(0[1-4])-(.+)\\\\.md$ in SOURCE_DIR.\")\n",
        "    groups = {}\n",
        "    for p in files:\n",
        "        m = FNAME_RE.match(p.name)\n",
        "        prefix, slug = m.group(\"prefix\"), m.group(\"slug\")\n",
        "        vid = int(prefix)\n",
        "        grp = groups.setdefault(slug, {})\n",
        "        if vid in grp:\n",
        "            raise ValueError(f\"Duplicate version prefix for article '{slug}': {prefix}\")\n",
        "        grp[vid] = p\n",
        "    DOCS = []\n",
        "    for slug, versions in sorted(groups.items()):\n",
        "        present = sorted(versions.keys())\n",
        "        if len(present) < 4:\n",
        "            NOTES.append(f\"Article '{slug}' missing versions: {sorted(set(range(1,5)) - set(present))}\")\n",
        "        for vid in present:\n",
        "            path = versions[vid]\n",
        "            text_raw = path.read_text(encoding=\"utf-8-sig\", errors=\"replace\")\n",
        "            text_clean = _clean_markdown(text_raw)\n",
        "            DOCS.append({\n",
        "                \"article_id\": slug,\n",
        "                \"version_id\": vid,\n",
        "                \"version_tag\": f\"v{vid}\",\n",
        "                \"filename\": path.name,\n",
        "                \"path\": str(path),\n",
        "                \"doc_id\": f\"{slug}::v{vid}\",\n",
        "                \"text_raw\": text_raw,\n",
        "                \"text\": text_clean,   # downstream cells use 'text'\n",
        "            })\n",
        "else:\n",
        "    # DOCS provided by user: validate shape\n",
        "    if not (isinstance(DOCS, list) and all(isinstance(d, dict) for d in DOCS)):\n",
        "        raise ValueError(\"DOCS must be a list of dicts.\")\n",
        "    if not all((\"doc_id\" in d and \"text\" in d) for d in DOCS):\n",
        "        raise ValueError(\"DOCS dicts must include 'doc_id' and 'text'.\")\n",
        "\n",
        "# ---- Metadata ----\n",
        "BASE_OUT = Path(\"outputs/textstat_lex\"); PLOTS_OUT = BASE_OUT / \"plots\"\n",
        "BASE_OUT.mkdir(parents=True, exist_ok=True); PLOTS_OUT.mkdir(parents=True, exist_ok=True)\n",
        "metadata_path = BASE_OUT / \"metadata.json\"\n",
        "\n",
        "articles = {}\n",
        "for d in DOCS:\n",
        "    slug = d.get(\"article_id\", d.get(\"doc_id\", \"<doc>\"))\n",
        "    vid = d.get(\"version_id\")\n",
        "    if slug not in articles: articles[slug] = []\n",
        "    if vid is not None and vid not in articles[slug]:\n",
        "        articles[slug].append(vid)\n",
        "for slug in articles:\n",
        "    articles[slug] = sorted(articles[slug])\n",
        "\n",
        "metadata = {\n",
        "    \"module\": \"module_1_textstat_lex_v1\",\n",
        "    \"timestamp_utc\": datetime.datetime.utcnow().isoformat(timespec=\"seconds\") + \"Z\",\n",
        "    \"seed\": 7,\n",
        "    \"library_versions\": VERS,\n",
        "    \"input_count\": len(DOCS),\n",
        "    \"source_dir\": (\n",
        "        str(SOURCE_DIR.resolve())\n",
        "        if (TEXT is None and isinstance(DOCS, list) and len(DOCS) and isinstance(DOCS[0], dict) and \"path\" in DOCS[0])\n",
        "        else None\n",
        "    ),\n",
        "    \"articles\": len(articles) if articles else None,\n",
        "    \"versions_per_article_min\": min((len(v) for v in articles.values()), default=None),\n",
        "    \"versions_per_article_max\": max((len(v) for v in articles.values()), default=None),\n",
        "    \"expected_versions\": 4,\n",
        "    \"version_order_source\": \"filename_prefix\",\n",
        "    \"notes\": NOTES,\n",
        "}\n",
        "metadata_path.write_text(json.dumps(metadata, indent=2), encoding=\"utf-8\")\n",
        "\n",
        "print(json.dumps({\n",
        "    \"cell_id\": \"cell 1.2: textstat|wordfreq: imports & sanity checks\",\n",
        "    \"status\": \"pass\",\n",
        "    \"inputs\": len(DOCS),\n",
        "    \"articles\": len(articles) if articles else 1,\n",
        "    \"metadata\": str(metadata_path),\n",
        "    \"versions\": VERS\n",
        "}, indent=2))\n"
      ],
      "metadata": {
        "colab": {
          "base_uri": "https://localhost:8080/"
        },
        "id": "An1C44KUovRd",
        "outputId": "94a0b742-b79b-4ae6-de72-b39d7727ff74"
      },
      "execution_count": 28,
      "outputs": [
        {
          "output_type": "stream",
          "name": "stdout",
          "text": [
            "{\n",
            "  \"cell_id\": \"cell 1.2: textstat|wordfreq: imports & sanity checks\",\n",
            "  \"status\": \"pass\",\n",
            "  \"inputs\": 4,\n",
            "  \"articles\": 1,\n",
            "  \"metadata\": \"outputs/textstat_lex/metadata.json\",\n",
            "  \"versions\": {\n",
            "    \"textstat\": \"0.7.10\",\n",
            "    \"wordfreq\": \"3.1.1\"\n",
            "  }\n",
            "}\n"
          ]
        },
        {
          "output_type": "stream",
          "name": "stderr",
          "text": [
            "/tmp/ipython-input-731714914.py:101: DeprecationWarning: datetime.datetime.utcnow() is deprecated and scheduled for removal in a future version. Use timezone-aware objects to represent datetimes in UTC: datetime.datetime.now(datetime.UTC).\n",
            "  \"timestamp_utc\": datetime.datetime.utcnow().isoformat(timespec=\"seconds\") + \"Z\",\n"
          ]
        }
      ]
    },
    {
      "cell_type": "code",
      "source": [
        "# cell 1.3: textstat: readability metrics (document-level on text_clean)\n",
        "problems = []\n",
        "rows = []\n",
        "\n",
        "# naive sentence split for eligibility check (not for final stats)\n",
        "SENT_SPLIT = re.compile(r'(?<=[.!?])\\s+')\n",
        "\n",
        "def _eligible(text: str) -> bool:\n",
        "    if text is None: return False\n",
        "    if len(text) < 200: return False\n",
        "    sents = [s for s in SENT_SPLIT.split(text.strip()) if s]\n",
        "    return len(sents) >= 3\n",
        "\n",
        "for d in DOCS:\n",
        "    doc_id = str(d.get(\"doc_id\", d.get(\"article_id\", \"doc\")) )\n",
        "    text = d.get(\"text\") or \"\"\n",
        "    row = {\n",
        "        \"doc_id\": doc_id,\n",
        "        \"article_id\": d.get(\"article_id\", None),\n",
        "        \"version_id\": d.get(\"version_id\", None),\n",
        "        \"version_tag\": d.get(\"version_tag\", None),\n",
        "        \"filename\": d.get(\"filename\", None),\n",
        "        \"path\": d.get(\"path\", None),\n",
        "        \"n_chars\": int(len(text)),\n",
        "    }\n",
        "    heavy_ok = _eligible(text)\n",
        "\n",
        "    metrics = {\n",
        "        \"flesch_reading_ease\": textstat.flesch_reading_ease,\n",
        "        \"flesch_kincaid_grade\": textstat.flesch_kincaid_grade,\n",
        "        \"gunning_fog\": textstat.gunning_fog,\n",
        "        \"smog_index\": textstat.smog_index,\n",
        "        \"coleman_liau_index\": textstat.coleman_liau_index,\n",
        "        \"automated_readability_index\": textstat.automated_readability_index,\n",
        "        \"dale_chall_readability_score\": textstat.dale_chall_readability_score,\n",
        "        \"linsear_write_formula\": textstat.linsear_write_formula,\n",
        "    }\n",
        "\n",
        "    if heavy_ok:\n",
        "        for k, fn in metrics.items():\n",
        "            try:\n",
        "                row[k] = float(fn(text))\n",
        "            except Exception as e:\n",
        "                row[k] = np.nan\n",
        "                problems.append({\"doc_id\": doc_id, \"metric\": k, \"error\": str(e)})\n",
        "        try:\n",
        "            row[\"text_standard\"] = str(textstat.text_standard(text))\n",
        "        except Exception as e:\n",
        "            row[\"text_standard\"] = \"\"\n",
        "            problems.append({\"doc_id\": doc_id, \"metric\": \"text_standard\", \"error\": str(e)})\n",
        "    else:\n",
        "        for k in metrics.keys(): row[k] = np.nan\n",
        "        row[\"text_standard\"] = \"\"\n",
        "\n",
        "    rows.append(row)\n",
        "\n",
        "df_lex = pd.DataFrame(rows)\n",
        "\n",
        "print(json.dumps({\n",
        "    \"cell_id\": \"cell 1.3: textstat: readability metrics\",\n",
        "    \"status\": \"pass\", \"docs\": int(len(df_lex)), \"problems\": int(len(problems))\n",
        "}, indent=2))\n"
      ],
      "metadata": {
        "colab": {
          "base_uri": "https://localhost:8080/"
        },
        "id": "FNlwKT9HMZhR",
        "outputId": "6e5b2fe6-20dc-4a06-c855-d304b27309d3"
      },
      "execution_count": 29,
      "outputs": [
        {
          "output_type": "stream",
          "name": "stdout",
          "text": [
            "{\n",
            "  \"cell_id\": \"cell 1.3: textstat: readability metrics\",\n",
            "  \"status\": \"pass\",\n",
            "  \"docs\": 4,\n",
            "  \"problems\": 0\n",
            "}\n"
          ]
        }
      ]
    },
    {
      "cell_type": "code",
      "source": [
        "# cell 1.4: wordfreq: Zipf frequency features (Unicode-aware, regex-only tokenization)\n",
        "import regex as rxx\n",
        "from wordfreq import zipf_frequency\n",
        "\n",
        "TOKEN_RE = rxx.compile(r\"\\b[\\p{L}\\p{M}\\p{N}’'-]+\\b\", flags=rxx.UNICODE)\n",
        "\n",
        "def tokenize(text: str):\n",
        "    return [m.group(0) for m in TOKEN_RE.finditer(text or \"\")]\n",
        "\n",
        "def token_zipf_stats(tokens):\n",
        "    lowers = [t.lower() for t in tokens]\n",
        "    freqs = [zipf_frequency(t, 'en', wordlist='best') for t in lowers]\n",
        "    freqs = [f for f in freqs if f is not None and f > 0]\n",
        "    if len(freqs) == 0:\n",
        "        return {\n",
        "            \"zipf_mean\": np.nan, \"zipf_std\": np.nan,\n",
        "            \"zipf_p25\": np.nan, \"zipf_p50\": np.nan, \"zipf_p75\": np.nan,\n",
        "            \"rare_rate\": np.nan, \"mid_rate\": np.nan, \"common_rate\": np.nan\n",
        "        }, []\n",
        "    arr = np.asarray(freqs, dtype=float)\n",
        "    stats = {\n",
        "        \"zipf_mean\": float(np.mean(arr)),\n",
        "        \"zipf_std\": float(np.std(arr, ddof=0)),\n",
        "        \"zipf_p25\": float(np.percentile(arr, 25)),\n",
        "        \"zipf_p50\": float(np.percentile(arr, 50)),\n",
        "        \"zipf_p75\": float(np.percentile(arr, 75)),\n",
        "        \"rare_rate\": float(np.mean(arr < 3.0)),\n",
        "        \"mid_rate\":  float(np.mean((arr >= 3.0) & (arr < 5.0))),\n",
        "        \"common_rate\": float(np.mean(arr >= 5.0)),\n",
        "    }\n",
        "    return stats, arr\n",
        "\n",
        "def latin_alpha_ratio(text: str) -> float:\n",
        "    if not text: return 0.0\n",
        "    all_alpha = [ch for ch in text if ch.isalpha()]\n",
        "    if not all_alpha: return 0.0\n",
        "    latin = [ch for ch in all_alpha if ('A' <= ch <= 'Z') or ('a' <= ch <= 'z')]\n",
        "    return len(latin) / len(all_alpha)\n",
        "\n",
        "ZIPF_ALL = []\n",
        "zipf_rows = []\n",
        "for idx, d in enumerate(DOCS):\n",
        "    doc_id, text = str(d.get(\"doc_id\", f\"doc_{idx:04d}\")), (d.get(\"text\") or \"\")\n",
        "    toks = tokenize(text)\n",
        "    stats, freqs = token_zipf_stats(toks)\n",
        "    zipf_rows.append({\"doc_id\": doc_id, **stats})\n",
        "    if len(freqs): ZIPF_ALL.append(np.asarray(freqs, dtype=float))\n",
        "\n",
        "df_zipf = pd.DataFrame(zipf_rows)\n",
        "df_lex = df_lex.merge(df_zipf, on=\"doc_id\", how=\"left\")\n",
        "\n",
        "# language heuristic update (non-blocking)\n",
        "meta_path = Path(\"outputs/textstat_lex/metadata.json\")\n",
        "try:\n",
        "    meta = json.loads(meta_path.read_text(encoding=\"utf-8\"))\n",
        "    ratios = [latin_alpha_ratio(d.get(\"text\") or \"\") for d in DOCS]\n",
        "    if len(ratios) and float(np.mean([r < 0.5 for r in ratios])) > 0.5:\n",
        "        meta[\"lang_guess\"] = \"non_en_possible\"\n",
        "    meta_path.write_text(json.dumps(meta, indent=2), encoding=\"utf-8\")\n",
        "except Exception:\n",
        "    pass\n",
        "\n",
        "ZIPF_ALL = np.concatenate(ZIPF_ALL, axis=0) if len(ZIPF_ALL) else np.array([], dtype=float)\n",
        "\n",
        "print(json.dumps({\n",
        "    \"cell_id\": \"cell 1.4: wordfreq: Zipf frequency features\",\n",
        "    \"status\": \"pass\", \"docs\": int(len(df_zipf)), \"zipf_values\": int(ZIPF_ALL.size)\n",
        "}, indent=2))\n"
      ],
      "metadata": {
        "colab": {
          "base_uri": "https://localhost:8080/"
        },
        "id": "cvEppcwiMgMn",
        "outputId": "af105dfa-2b9a-47d6-ebec-6567ea38aa13"
      },
      "execution_count": 30,
      "outputs": [
        {
          "output_type": "stream",
          "name": "stdout",
          "text": [
            "{\n",
            "  \"cell_id\": \"cell 1.4: wordfreq: Zipf frequency features\",\n",
            "  \"status\": \"pass\",\n",
            "  \"docs\": 4,\n",
            "  \"zipf_values\": 5304\n",
            "}\n"
          ]
        }
      ]
    },
    {
      "cell_type": "code",
      "source": [
        "# cell 1.5: lexicons: function-word profile, TTR, naive sentence stats + dtype enforcement\n",
        "from pathlib import Path\n",
        "\n",
        "# Reuse TOKEN_RE & tokenize from 1.4\n",
        "\n",
        "LEX_PATH = Path(\"lexicons/function_words_en.txt\")\n",
        "if LEX_PATH.exists():\n",
        "    FUNC_WORDS = {w.strip().lower() for w in LEX_PATH.read_text(encoding=\"utf-8\").splitlines() if w.strip()}\n",
        "else:\n",
        "    FUNC_WORDS = {\n",
        "        \"a\",\"an\",\"the\",\"and\",\"or\",\"but\",\"if\",\"because\",\"as\",\"until\",\"while\",\n",
        "        \"of\",\"at\",\"by\",\"for\",\"with\",\"about\",\"against\",\"between\",\"into\",\"through\",\n",
        "        \"during\",\"before\",\"after\",\"above\",\"below\",\"to\",\"from\",\"up\",\"down\",\"in\",\"out\",\n",
        "        \"on\",\"off\",\"over\",\"under\",\"again\",\"further\",\"then\",\"once\",\"here\",\"there\",\n",
        "        \"when\",\"where\",\"why\",\"how\",\"all\",\"any\",\"both\",\"each\",\"few\",\"more\",\"most\",\n",
        "        \"other\",\"some\",\"such\",\"no\",\"nor\",\"not\",\"only\",\"own\",\"same\",\"so\",\"than\",\"too\",\"very\",\n",
        "        \"can\",\"will\",\"just\",\"don\",\"should\",\"now\",\"i\",\"you\",\"he\",\"she\",\"it\",\"we\",\"they\",\n",
        "        \"me\",\"him\",\"her\",\"us\",\"them\",\"my\",\"your\",\"his\",\"its\",\"our\",\"their\",\n",
        "        \"is\",\"am\",\"are\",\"was\",\"were\",\"be\",\"been\",\"being\",\"have\",\"has\",\"had\",\"do\",\"does\",\"did\"\n",
        "    }\n",
        "\n",
        "PUNCT_CHARS = set(list(\".,;:!?—–-()[]'\\\"“”‘’\"))\n",
        "SENT_SPLIT_FOR_STATS = rxx.compile(r\"(?<=[.!?])\\s+(?=[A-Z])\")\n",
        "\n",
        "SENT_LEN_ALL = []\n",
        "rows = []\n",
        "for idx, d in enumerate(DOCS):\n",
        "    doc_id, text = str(d.get(\"doc_id\", f\"doc_{idx:04d}\")), (d.get(\"text\") or \"\")\n",
        "    toks = tokenize(text)\n",
        "    n_tokens = int(len(toks))\n",
        "    lowers = [t.lower() for t in toks]\n",
        "    n_unique = len(set(lowers))\n",
        "    ttr = float(n_unique / n_tokens) if n_tokens > 0 else float(\"nan\")\n",
        "    fw_rate = float(sum(1 for t in lowers if t in FUNC_WORDS) / n_tokens) if n_tokens > 0 else float(\"nan\")\n",
        "    tok_lens = np.array([len(t) for t in toks], dtype=float) if n_tokens > 0 else np.array([], dtype=float)\n",
        "    token_len_mean = float(tok_lens.mean()) if tok_lens.size else float(\"nan\")\n",
        "    token_len_std  = float(tok_lens.std(ddof=0)) if tok_lens.size else float(\"nan\")\n",
        "    pden = (sum(1 for ch in (text or \"\") if ch in PUNCT_CHARS) / n_tokens * 100.0) if n_tokens > 0 else float(\"nan\")\n",
        "\n",
        "    sents = [s for s in SENT_SPLIT_FOR_STATS.split(text.strip()) if s]\n",
        "    sent_lens = [len(tokenize(s)) for s in sents] if sents else []\n",
        "    if sent_lens: SENT_LEN_ALL.extend(sent_lens)\n",
        "    naive_sentence_count = int(len(sents))\n",
        "    naive_sentence_len_mean = float(np.mean(sent_lens)) if sent_lens else float(\"nan\")\n",
        "    naive_sentence_len_std  = float(np.std(sent_lens, ddof=0)) if sent_lens else float(\"nan\")\n",
        "\n",
        "    rows.append({\n",
        "        \"doc_id\": doc_id,\n",
        "        \"n_tokens_regex\": n_tokens,\n",
        "        \"ttr\": ttr,\n",
        "        \"function_word_rate\": fw_rate,\n",
        "        \"punctuation_density_per_100toks\": pden,\n",
        "        \"token_len_mean\": token_len_mean,\n",
        "        \"token_len_std\": token_len_std,\n",
        "        \"naive_sentence_count\": naive_sentence_count,\n",
        "        \"naive_sentence_len_mean\": naive_sentence_len_mean,\n",
        "        \"naive_sentence_len_std\": naive_sentence_len_std,\n",
        "    })\n",
        "\n",
        "df_lex2 = pd.DataFrame(rows)\n",
        "df_lex = df_lex.merge(df_lex2, on=\"doc_id\", how=\"left\")\n",
        "\n",
        "# ---- dtype & required columns (includes filename-driven identifiers) ----\n",
        "required_cols = [\n",
        "    \"doc_id\",\"article_id\",\"version_id\",\"version_tag\",\"filename\",\"path\",\n",
        "    \"n_chars\",\"n_tokens_regex\",\"ttr\",\"function_word_rate\",\"punctuation_density_per_100toks\",\n",
        "    \"token_len_mean\",\"token_len_std\",\"zipf_mean\",\"zipf_std\",\"zipf_p25\",\"zipf_p50\",\"zipf_p75\",\n",
        "    \"rare_rate\",\"mid_rate\",\"common_rate\",\"flesch_reading_ease\",\"flesch_kincaid_grade\",\"gunning_fog\",\n",
        "    \"smog_index\",\"coleman_liau_index\",\"automated_readability_index\",\"dale_chall_readability_score\",\n",
        "    \"linsear_write_formula\",\"text_standard\",\"naive_sentence_count\",\"naive_sentence_len_mean\",\n",
        "    \"naive_sentence_len_std\"\n",
        "]\n",
        "for c in required_cols:\n",
        "    if c not in df_lex.columns:\n",
        "        df_lex[c] = np.nan\n",
        "\n",
        "# identifiers\n",
        "df_lex[\"doc_id\"] = df_lex[\"doc_id\"].astype(\"string\")\n",
        "df_lex[\"article_id\"] = df_lex[\"article_id\"].astype(\"string\")\n",
        "df_lex[\"version_tag\"] = df_lex[\"version_tag\"].astype(\"string\")\n",
        "df_lex[\"filename\"] = df_lex[\"filename\"].astype(\"string\")\n",
        "df_lex[\"path\"] = df_lex[\"path\"].astype(\"string\")\n",
        "df_lex[\"version_id\"] = pd.to_numeric(df_lex[\"version_id\"], errors=\"coerce\").fillna(0).astype(\"int64\")\n",
        "\n",
        "# ints\n",
        "for c in [\"n_chars\",\"n_tokens_regex\",\"naive_sentence_count\"]:\n",
        "    df_lex[c] = pd.to_numeric(df_lex[c], errors=\"coerce\").fillna(0).astype(\"int64\")\n",
        "\n",
        "# strings\n",
        "df_lex[\"text_standard\"] = df_lex[\"text_standard\"].astype(\"string\")\n",
        "\n",
        "# floats\n",
        "float_cols = [c for c in required_cols if c not in\n",
        "              [\"doc_id\",\"article_id\",\"version_id\",\"version_tag\",\"filename\",\"path\",\n",
        "               \"n_chars\",\"n_tokens_regex\",\"naive_sentence_count\",\"text_standard\"]]\n",
        "for c in float_cols:\n",
        "    df_lex[c] = pd.to_numeric(df_lex[c], errors=\"coerce\").astype(\"float64\")\n",
        "\n",
        "print(json.dumps({\n",
        "    \"cell_id\": \"cell 1.5: lexicons: function-word profile & TTR\",\n",
        "    \"status\": \"pass\", \"docs\": int(len(df_lex)), \"have_sent_len\": int(len(SENT_LEN_ALL))\n",
        "}, indent=2))\n"
      ],
      "metadata": {
        "colab": {
          "base_uri": "https://localhost:8080/"
        },
        "id": "sAfcB189Mjd1",
        "outputId": "25990186-d556-494d-9a95-aeed70cf002b"
      },
      "execution_count": 31,
      "outputs": [
        {
          "output_type": "stream",
          "name": "stdout",
          "text": [
            "{\n",
            "  \"cell_id\": \"cell 1.5: lexicons: function-word profile & TTR\",\n",
            "  \"status\": \"pass\",\n",
            "  \"docs\": 4,\n",
            "  \"have_sent_len\": 277\n",
            "}\n"
          ]
        }
      ]
    },
    {
      "cell_type": "code",
      "source": [
        "# cell 1.6: textstat|wordfreq: visuals — baseline distributions + per-article trends + deltas\n",
        "from pathlib import Path\n",
        "import json\n",
        "\n",
        "BASE_OUT = Path(\"outputs/textstat_lex\"); PLOTS_OUT = BASE_OUT / \"plots\"\n",
        "PLOTS_OUT.mkdir(parents=True, exist_ok=True)\n",
        "\n",
        "# Assert foundations / prior cells present (no base re-imports here)\n",
        "_missing = [name for name in (\"np\",\"pd\",\"plt\",\"df_lex\") if name not in globals()]\n",
        "if _missing:\n",
        "    raise RuntimeError(f\"Prereqs missing in cell 1.6: {_missing}. Run 0.2 and cells 1.3–1.5 first.\")\n",
        "\n",
        "# Fallback tokenizer if 1.4 wasn't run\n",
        "try:\n",
        "    TOKEN_RE  # noqa: F821\n",
        "except NameError:\n",
        "    import regex as rxx\n",
        "    TOKEN_RE = rxx.compile(r\"\\b[\\p{L}\\p{M}\\p{N}’'-]+\\b\", flags=rxx.UNICODE)\n",
        "\n",
        "def _placeholder_plot(title, note, outfile):\n",
        "    plt.figure(dpi=120)\n",
        "    plt.text(0.5, 0.6, \"No data available\", ha=\"center\", va=\"center\", fontsize=12)\n",
        "    plt.text(0.5, 0.4, note, ha=\"center\", va=\"center\", fontsize=9)\n",
        "    plt.title(title); plt.axis(\"off\")\n",
        "    plt.tight_layout(); plt.savefig(outfile); plt.show(); plt.close()\n",
        "\n",
        "# ---- Global histograms ----\n",
        "# Sentence length histogram\n",
        "try:\n",
        "    sent_ok = False\n",
        "    if 'SENT_LEN_ALL' in globals() and len(SENT_LEN_ALL):\n",
        "        plt.figure(dpi=120)\n",
        "        bins = np.arange(0, max(SENT_LEN_ALL)+2)\n",
        "        plt.hist(SENT_LEN_ALL, bins=bins, edgecolor='black', linewidth=0.5)\n",
        "        plt.title(\"Sentence Lengths (regex tokens) — Module 1 baselines\")\n",
        "        plt.xlabel(\"Tokens per sentence\"); plt.ylabel(\"Count\")\n",
        "        plt.figtext(0.01, 0.01, \"Module 1 regex-based baselines; not syntactic tokenization\",\n",
        "                    ha=\"left\", fontsize=9)\n",
        "        out1 = PLOTS_OUT / \"sentence_length_hist.png\"\n",
        "        plt.tight_layout(); plt.savefig(out1); plt.show()\n",
        "        sent_ok = True\n",
        "    else:\n",
        "        out1 = PLOTS_OUT / \"sentence_length_hist.png\"\n",
        "        _placeholder_plot(\"Sentence Lengths — Module 1 baselines\",\n",
        "                          \"Regex tokens; produced as placeholder due to empty input.\",\n",
        "                          out1)\n",
        "except Exception as e:\n",
        "    print(json.dumps({\"plot\": \"sentence_length_hist\", \"error\": str(e)}))\n",
        "\n",
        "# Zipf frequency histogram\n",
        "try:\n",
        "    zipf_ok = False\n",
        "    if 'ZIPF_ALL' in globals() and getattr(ZIPF_ALL, \"size\", 0):\n",
        "        plt.figure(dpi=120)\n",
        "        bins = np.arange(1.0, 7.01, 0.25)\n",
        "        plt.hist(ZIPF_ALL, bins=bins, edgecolor='black', linewidth=0.5)\n",
        "        plt.title(\"Token Zipf Frequencies — Module 1 baselines\")\n",
        "        plt.xlabel(\"Zipf frequency (best list)\"); plt.ylabel(\"Count\")\n",
        "        plt.figtext(0.01, 0.01, \"Module 1 regex-based baselines; not syntactic tokenization\",\n",
        "                    ha=\"left\", fontsize=9)\n",
        "        out2 = PLOTS_OUT / \"zipf_hist.png\"\n",
        "        plt.tight_layout(); plt.savefig(out2); plt.show()\n",
        "        zipf_ok = True\n",
        "    else:\n",
        "        out2 = PLOTS_OUT / \"zipf_hist.png\"\n",
        "        _placeholder_plot(\"Token Zipf Frequencies — Module 1 baselines\",\n",
        "                          \"English word list; produced as placeholder due to empty input.\",\n",
        "                          out2)\n",
        "except Exception as e:\n",
        "    print(json.dumps({\"plot\": \"zipf_hist\", \"error\": str(e)}))\n",
        "\n",
        "# ---- Per-article visuals (up to first 10 slugs alphabetically) ----\n",
        "per_article_ok = True\n",
        "try:\n",
        "    if \"article_id\" in df_lex.columns and df_lex[\"article_id\"].notna().any():\n",
        "        for slug in sorted(df_lex[\"article_id\"].dropna().unique())[:10]:\n",
        "            sub = df_lex[df_lex[\"article_id\"] == slug].copy()\n",
        "            if \"version_id\" in sub.columns:\n",
        "                sub = sub.sort_values(\"version_id\")\n",
        "            # Trend: Flesch Reading Ease across versions\n",
        "            try:\n",
        "                plt.figure(dpi=120)\n",
        "                plt.plot(sub[\"version_id\"], sub[\"flesch_reading_ease\"], marker=\"o\")\n",
        "                plt.title(f\"Flesch Reading Ease — {slug} (v1..v4)\")\n",
        "                plt.xlabel(\"Version (from filename prefix)\"); plt.ylabel(\"Flesch Reading Ease\")\n",
        "                plt.xticks(sub[\"version_id\"])\n",
        "                outp = PLOTS_OUT / f\"trend_flesch_reading_ease_{slug}.png\"\n",
        "                plt.tight_layout(); plt.savefig(outp); plt.close()\n",
        "            except Exception as e:\n",
        "                per_article_ok = False\n",
        "                print(json.dumps({\"plot\": \"trend_flesch\", \"slug\": slug, \"error\": str(e)}))\n",
        "            # Stacked bars: Zipf bins per version\n",
        "            try:\n",
        "                plt.figure(dpi=120)\n",
        "                idx = sub[\"version_id\"].astype(int).to_numpy()\n",
        "                rare = sub[\"rare_rate\"].fillna(0).to_numpy()\n",
        "                mid  = sub[\"mid_rate\"].fillna(0).to_numpy()\n",
        "                com  = sub[\"common_rate\"].fillna(0).to_numpy()\n",
        "                plt.bar(idx, rare, label=\"rare <3.0\")\n",
        "                plt.bar(idx, mid, bottom=rare, label=\"mid 3–<5\")\n",
        "                plt.bar(idx, com, bottom=rare+mid, label=\"common ≥5\")\n",
        "                plt.title(f\"Zipf Bins — {slug} (v1..v4)\")\n",
        "                plt.xlabel(\"Version (from filename prefix)\"); plt.ylabel(\"Fraction\")\n",
        "                plt.xticks(idx); plt.ylim(0, 1); plt.legend(frameon=False)\n",
        "                outp = PLOTS_OUT / f\"zipf_bins_stacked_{slug}.png\"\n",
        "                plt.tight_layout(); plt.savefig(outp); plt.close()\n",
        "            except Exception as e:\n",
        "                per_article_ok = False\n",
        "                print(json.dumps({\"plot\": \"zipf_bins_stacked\", \"slug\": slug, \"error\": str(e)}))\n",
        "except Exception as e:\n",
        "    per_article_ok = False\n",
        "    print(json.dumps({\"plot\": \"per_article\", \"error\": str(e)}))\n",
        "\n",
        "# ---- Write Parquet artifact (document-level) ----\n",
        "parquet_path = BASE_OUT / \"lexical_features.parquet\"\n",
        "df_lex.to_parquet(parquet_path, index=False, engine=\"pyarrow\")\n",
        "\n",
        "# ---- Deltas between consecutive versions within each article ----\n",
        "def _token_set(text: str) -> set:\n",
        "    return set([m.group(0).lower() for m in TOKEN_RE.finditer(text or \"\")])\n",
        "\n",
        "def token_jaccard(a_text: str, b_text: str) -> float:\n",
        "    A, B = _token_set(a_text), _token_set(b_text)\n",
        "    if not A and not B: return float(\"nan\")\n",
        "    inter = len(A & B); uni = len(A | B)\n",
        "    return inter / uni if uni else float(\"nan\")\n",
        "\n",
        "def js_divergence(p, q, eps=1e-8):\n",
        "    p = np.asarray(p, dtype=float) + eps\n",
        "    q = np.asarray(q, dtype=float) + eps\n",
        "    p /= p.sum(); q /= q.sum()\n",
        "    m = 0.5 * (p + q)\n",
        "    kl = lambda x, y: np.sum(x * np.log(x / y))\n",
        "    return float(0.5 * kl(p, m) + 0.5 * kl(q, m))\n",
        "\n",
        "delta_rows = []\n",
        "if \"article_id\" in df_lex.columns and df_lex[\"article_id\"].notna().any():\n",
        "    # need access to original cleaned text for jaccard; rebuild map from DOCS\n",
        "    text_map = {d.get(\"doc_id\", f\"doc_{i:04d}\"): d.get(\"text\",\"\") for i,d in enumerate(DOCS)}\n",
        "    for slug in sorted(df_lex[\"article_id\"].dropna().unique()):\n",
        "        sub = df_lex[df_lex[\"article_id\"] == slug].copy().sort_values(\"version_id\")\n",
        "        vids = sub[\"version_id\"].astype(int).tolist()\n",
        "        docs_order = sub[\"doc_id\"].tolist()\n",
        "        for i in range(len(vids)-1):\n",
        "            v_from, v_to = vids[i], vids[i+1]\n",
        "            if v_to != v_from + 1:  # only adjacent pairs (1->2, 2->3, 3->4)\n",
        "                continue\n",
        "            docA, docB = docs_order[i], docs_order[i+1]\n",
        "            p = [float(sub.iloc[i][\"rare_rate\"] or 0), float(sub.iloc[i][\"mid_rate\"] or 0), float(sub.iloc[i][\"common_rate\"] or 0)]\n",
        "            q = [float(sub.iloc[i+1][\"rare_rate\"] or 0), float(sub.iloc[i+1][\"mid_rate\"] or 0), float(sub.iloc[i+1][\"common_rate\"] or 0)]\n",
        "            delta_rows.append({\n",
        "                \"article_id\": slug,\n",
        "                \"from_version\": int(v_from),\n",
        "                \"to_version\": int(v_to),\n",
        "                \"token_jaccard\": token_jaccard(text_map.get(docA,\"\"), text_map.get(docB,\"\")),\n",
        "                \"zipf_jsd\": js_divergence(p, q),\n",
        "            })\n",
        "\n",
        "df_deltas = pd.DataFrame(delta_rows) if delta_rows else pd.DataFrame(\n",
        "    columns=[\"article_id\",\"from_version\",\"to_version\",\"token_jaccard\",\"zipf_jsd\"])\n",
        "deltas_path = BASE_OUT / \"lexical_deltas.parquet\"\n",
        "df_deltas.to_parquet(deltas_path, index=False, engine=\"pyarrow\")\n",
        "\n",
        "print(json.dumps({\n",
        "    \"cell_id\": \"cell 1.6: textstat|wordfreq: visuals — baseline distributions (+per-article & deltas)\",\n",
        "    \"status\": \"pass\",\n",
        "    \"plots\": {\"sentence_length_hist\": bool('sent_ok' in locals() and sent_ok),\n",
        "              \"zipf_hist\": bool('zipf_ok' in locals() and zipf_ok),\n",
        "              \"per_article\": bool(per_article_ok)},\n",
        "    \"artifacts\": {\"features_parquet\": str(parquet_path), \"deltas_parquet\": str(deltas_path)}\n",
        "}, indent=2))\n"
      ],
      "metadata": {
        "colab": {
          "base_uri": "https://localhost:8080/",
          "height": 1000
        },
        "id": "ptVjTt7pMpCe",
        "outputId": "9cfe69b8-a07e-4786-d319-436feab1c89d"
      },
      "execution_count": 32,
      "outputs": [
        {
          "output_type": "display_data",
          "data": {
            "text/plain": [
              "<Figure size 960x420 with 1 Axes>"
            ],
            "image/png": "[encoded data removed]"
          },
          "metadata": {}
        },
        {
          "output_type": "display_data",
          "data": {
            "text/plain": [
              "<Figure size 960x420 with 1 Axes>"
            ],
            "image/png": "[encoded data removed]"
          },
          "metadata": {}
        },
        {
          "output_type": "stream",
          "name": "stdout",
          "text": [
            "{\n",
            "  \"cell_id\": \"cell 1.6: textstat|wordfreq: visuals \\u2014 baseline distributions (+per-article & deltas)\",\n",
            "  \"status\": \"pass\",\n",
            "  \"plots\": {\n",
            "    \"sentence_length_hist\": true,\n",
            "    \"zipf_hist\": true,\n",
            "    \"per_article\": true\n",
            "  },\n",
            "  \"artifacts\": {\n",
            "    \"features_parquet\": \"outputs/textstat_lex/lexical_features.parquet\",\n",
            "    \"deltas_parquet\": \"outputs/textstat_lex/lexical_deltas.parquet\"\n",
            "  }\n",
            "}\n"
          ]
        }
      ]
    },
    {
      "cell_type": "code",
      "source": [
        "# cell 1.Y: Module 1 validtion\n",
        "import pandas as pd, json, pathlib\n",
        "\n",
        "base = pathlib.Path(\"outputs/textstat_lex\")  # or the folder where you placed them\n",
        "meta = json.loads((base / \"metadata.json\").read_text())\n",
        "feat = pd.read_parquet(base / \"lexical_features.parquet\")\n",
        "delt = pd.read_parquet(base / \"lexical_deltas.parquet\")\n",
        "\n",
        "print(\"version_order_source:\", meta.get(\"version_order_source\"))\n",
        "\n",
        "# Features: required keys\n",
        "req_feat = {\"article_id\",\"version_id\",\"version_tag\",\"doc_id\"}\n",
        "print(\"features missing keys:\", sorted(req_feat - set(feat.columns)))\n",
        "\n",
        "# Deltas: adjacency & ranges\n",
        "req_delta = {\"article_id\",\"from_version\",\"to_version\",\"token_jaccard\",\"zipf_jsd\"}\n",
        "print(\"deltas missing keys:\", sorted(req_delta - set(delt.columns)))\n",
        "print(\"adjacent only:\", ((delt[\"to_version\"] - delt[\"from_version\"]) == 1).all())\n",
        "print(\"token_jaccard in [0,1]:\", delt[\"token_jaccard\"].dropna().between(0,1).all())\n",
        "print(\"zipf_jsd in [0,1]:\", delt[\"zipf_jsd\"].dropna().between(0,1).all())\n"
      ],
      "metadata": {
        "colab": {
          "base_uri": "https://localhost:8080/"
        },
        "id": "3S4Zs9K_viEM",
        "outputId": "c02f989b-b064-4269-f106-5120715af8e9"
      },
      "execution_count": 34,
      "outputs": [
        {
          "output_type": "stream",
          "name": "stdout",
          "text": [
            "version_order_source: filename_prefix\n",
            "features missing keys: []\n",
            "deltas missing keys: []\n",
            "adjacent only: True\n",
            "token_jaccard in [0,1]: True\n",
            "zipf_jsd in [0,1]: True\n"
          ]
        }
      ]
    },
    {
      "cell_type": "code",
      "source": [
        "# cell 1.Z: package Module 1 outputs into a zip archive\n",
        "import shutil, json\n",
        "from pathlib import Path\n",
        "\n",
        "OUT_DIR = Path(\"outputs/textstat_lex\")\n",
        "ZIP_PATH = Path(\"outputs/textstat_lex_outputs.zip\")\n",
        "\n",
        "if OUT_DIR.exists():\n",
        "    if ZIP_PATH.exists():\n",
        "        ZIP_PATH.unlink()  # remove old zip if present\n",
        "    shutil.make_archive(str(ZIP_PATH.with_suffix(\"\")), \"zip\", OUT_DIR)\n",
        "    print(json.dumps({\n",
        "        \"cell_id\": \"cell 1.Z: zip outputs\",\n",
        "        \"status\": \"pass\",\n",
        "        \"zipped\": str(ZIP_PATH),\n",
        "        \"size_bytes\": ZIP_PATH.stat().st_size\n",
        "    }, indent=2))\n",
        "else:\n",
        "    print(json.dumps({\n",
        "        \"cell_id\": \"cell 1.Z: zip outputs\",\n",
        "        \"status\": \"fail\",\n",
        "        \"error\": f\"Output directory not found: {OUT_DIR}\"\n",
        "    }, indent=2))\n"
      ],
      "metadata": {
        "colab": {
          "base_uri": "https://localhost:8080/"
        },
        "id": "VJOYBo7BuqtY",
        "outputId": "1d93f648-ff9d-4b43-ae91-486a33872c09"
      },
      "execution_count": 33,
      "outputs": [
        {
          "output_type": "stream",
          "name": "stdout",
          "text": [
            "{\n",
            "  \"cell_id\": \"cell 1.Z: zip outputs\",\n",
            "  \"status\": \"pass\",\n",
            "  \"zipped\": \"outputs/textstat_lex_outputs.zip\",\n",
            "  \"size_bytes\": 126249\n",
            "}\n"
          ]
        }
      ]
    }
  ]
}